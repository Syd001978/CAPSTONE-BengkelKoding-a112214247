{
  "nbformat": 4,
  "nbformat_minor": 0,
  "metadata": {
    "colab": {
      "provenance": [],
      "authorship_tag": "ABX9TyOeufvHc6F1dob/8JQtn+35",
      "include_colab_link": true
    },
    "kernelspec": {
      "name": "python3",
      "display_name": "Python 3"
    },
    "language_info": {
      "name": "python"
    }
  },
  "cells": [
    {
      "cell_type": "markdown",
      "metadata": {
        "id": "view-in-github",
        "colab_type": "text"
      },
      "source": [
        "<a href=\"https://colab.research.google.com/github/Syd001978/CAPSTONE-BengkelKoding-a112214247/blob/main/a112214247_stki(token%2Cfilter%2Cstem).ipynb\" target=\"_parent\"><img src=\"https://colab.research.google.com/assets/colab-badge.svg\" alt=\"Open In Colab\"/></a>"
      ]
    },
    {
      "cell_type": "code",
      "execution_count": 4,
      "metadata": {
        "colab": {
          "base_uri": "https://localhost:8080/"
        },
        "id": "hewS0YwsIegX",
        "outputId": "8a01261a-613d-414d-b3e6-9e2dbcae4ae8"
      },
      "outputs": [
        {
          "output_type": "stream",
          "name": "stdout",
          "text": [
            "\n",
            "==================== HASIL DOKUMEN 1 ====================\n",
            "Asli = elearning di kampus diatas jam 6 malam kok selalu gak bisa dibuka ya?\n",
            "Case Folding = elearning di kampus diatas jam 6 malam kok selalu gak bisa dibuka ya?\n",
            "Hapus Tanda Baca = elearning di kampus diatas jam 6 malam kok selalu gak bisa dibuka ya\n",
            "Filtering = elearning kampus diatas jam 6 malam kok selalu gak dibuka\n",
            "Stemming = elearning kampus atas jam 6 malam kok selalu gak buka\n",
            "\n",
            "==================== HASIL DOKUMEN 2 ====================\n",
            "Asli = kampus tidak punya lahan parkir yang layak. Dan jalanan terlalu ramai karena di buka untuk umum. Seperti jalan tol saja. Kampus oh kampus\n",
            "Case Folding = kampus tidak punya lahan parkir yang layak. dan jalanan terlalu ramai karena di buka untuk umum. seperti jalan tol saja. kampus oh kampus\n",
            "Hapus Tanda Baca = kampus tidak punya lahan parkir yang layak dan jalanan terlalu ramai karena di buka untuk umum seperti jalan tol saja kampus oh kampus\n",
            "Filtering = kampus punya lahan parkir layak jalanan terlalu ramai di buka umum jalan tol kampus kampus\n",
            "Stemming = kampus punya lahan parkir layak jalan terlalu ramai di buka umum jalan tol kampus kampus\n",
            "\n",
            "==================== HASIL DOKUMEN 3 ====================\n",
            "Asli = Kelas Arsitektur dan Organisasi Komputer penuh, apakah tidak dibuka kelas lagi. Rugi kalo saya bisa ngambil 24 SKS tapi baru 18 SKS yg terpenuhi\n",
            "Case Folding = kelas arsitektur dan organisasi komputer penuh, apakah tidak dibuka kelas lagi. rugi kalo saya bisa ngambil 24 sks tapi baru 18 sks yg terpenuhi\n",
            "Hapus Tanda Baca = kelas arsitektur dan organisasi komputer penuh apakah tidak dibuka kelas lagi rugi kalo saya bisa ngambil 24 sks tapi baru 18 sks yg terpenuhi\n",
            "Filtering = kelas arsitektur organisasi komputer penuh tidak dibuka kelas rugi kalo bisa ngambil 24 sks baru 18 sks yg terpenuhi\n",
            "Stemming = kelas arsitektur organisasi komputer penuh tidak buka kelas rugi kalo bisa ngambil 24 sks baru 18 sks yg penuh\n",
            "\n",
            "==================== HASIL DOKUMEN 4 ====================\n",
            "Asli = Informasi tata cara daftar ulang bagi mahasiswa baru TI kurang jelas. Sehingga ketika tanggal terakhir syarat penyerahan berkas daftar ulang, banyak mahasiswa baru yang tidak membawa salah satu syarat daftar ulangnya.\n",
            "Case Folding = informasi tata cara daftar ulang bagi mahasiswa baru ti kurang jelas. sehingga ketika tanggal terakhir syarat penyerahan berkas daftar ulang, banyak mahasiswa baru yang tidak membawa salah satu syarat daftar ulangnya.\n",
            "Hapus Tanda Baca = informasi tata cara daftar ulang bagi mahasiswa baru ti kurang jelas sehingga ketika tanggal terakhir syarat penyerahan berkas daftar ulang banyak mahasiswa baru yang tidak membawa salah satu syarat daftar ulangnya\n",
            "Filtering = informasi tata cara daftar ulang mahasiswa baru ti kurang jelas ketika tanggal terakhir syarat penyerahan berkas daftar ulang banyak mahasiswa baru tidak membawa salah satu syarat daftar ulangnya\n",
            "Stemming = informasi tata cara daftar ulang mahasiswa baru ti kurang jelas ketika tanggal akhir syarat serah berkas daftar ulang banyak mahasiswa baru tidak bawa salah satu syarat daftar ulang\n"
          ]
        }
      ],
      "source": [
        "\n",
        "!pip install Sastrawi -q\n",
        "\n",
        "from Sastrawi.StopWordRemover.StopWordRemoverFactory import StopWordRemoverFactory\n",
        "from Sastrawi.Stemmer.StemmerFactory import StemmerFactory\n",
        "import re\n",
        "\n",
        "# Membuat objek stopword remover dan stemmer (cukup sekali di awal)\n",
        "stopword_factory = StopWordRemoverFactory()\n",
        "stopword = stopword_factory.create_stop_word_remover()\n",
        "\n",
        "stemmer_factory = StemmerFactory()\n",
        "stemmer = stemmer_factory.create_stemmer()\n",
        "\n",
        "\n",
        "list_dokumen = [\n",
        "    # Dokumen 1\n",
        "    \"elearning di kampus diatas jam 6 malam kok selalu gak bisa dibuka ya?\",\n",
        "\n",
        "    # Dokumen 2\n",
        "    \"kampus tidak punya lahan parkir yang layak. Dan jalanan terlalu ramai karena di buka untuk umum. Seperti jalan tol saja. Kampus oh kampus\",\n",
        "\n",
        "    # Dokumen 3\n",
        "    \"Kelas Arsitektur dan Organisasi Komputer penuh, apakah tidak dibuka kelas lagi. Rugi kalo saya bisa ngambil 24 SKS tapi baru 18 SKS yg terpenuhi\",\n",
        "\n",
        "    # Dokumen 4\n",
        "    \"Informasi tata cara daftar ulang bagi mahasiswa baru TI kurang jelas. Sehingga ketika tanggal terakhir syarat penyerahan berkas daftar ulang, banyak mahasiswa baru yang tidak membawa salah satu syarat daftar ulangnya.\"\n",
        "]\n",
        "\n",
        "\n",
        "for i, doc in enumerate(list_dokumen, 1):\n",
        "\n",
        "    # Header\n",
        "    print(f\"\\n==================== HASIL DOKUMEN {i} ====================\")\n",
        "\n",
        "    doc_case_folded = doc.lower()\n",
        "    doc_no_punctuation = re.sub(r'[^\\w\\s]', '', doc_case_folded)\n",
        "    doc_filtered = stopword.remove(doc_no_punctuation)\n",
        "    doc_normalized = stemmer.stem(doc_filtered)\n",
        "\n",
        "    # hasil\n",
        "    print(f\"Asli = {doc}\")\n",
        "    print(f\"Case Folding = {doc_case_folded}\")\n",
        "    print(f\"Hapus Tanda Baca = {doc_no_punctuation}\")\n",
        "    print(f\"Filtering = {doc_filtered}\")\n",
        "    print(f\"Stemming = {doc_normalized}\")"
      ]
    },
    {
      "cell_type": "markdown",
      "source": [],
      "metadata": {
        "id": "7Xd-ToEYRTMo"
      }
    }
  ]
}